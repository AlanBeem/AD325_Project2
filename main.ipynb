{
 "cells": [
  {
   "cell_type": "code",
   "execution_count": 1,
   "metadata": {
    "ExecuteTime": {
     "end_time": "2024-11-01T18:16:53.808648Z",
     "start_time": "2024-11-01T18:16:53.521666Z"
    }
   },
   "outputs": [
    {
     "name": "stdout",
     "output_type": "stream",
     "text": [
      "[(1, ['user1', 'League of Legends', 'Bayonetta', 'Fire Emblem', 'Uncharted', 'Animal Crossing', 'Far Cry', 'Portal', 'Dragon Age', 'Grand Theft Auto V', 'Red Dead Redemption 2', 'Super Mario Bros', 'Metal Gear Solid', 'Ghost of Tsushima', 'World of Warcraft', 'Dragon Age']), (2, ['user2', 'Diablo', 'League of Legends', 'Silent Hill', 'Sekiro', 'The Legend of Zelda', 'Mass Effect', 'Battlefield', 'Half-Life', 'Red Dead Redemption 2', 'Metroid', 'The Last of Us', 'Spider-Man', 'The Elder Scrolls V: Skyrim', 'Fortnite', 'Resident Evil', 'Bioshock', 'The Legend of Zelda']), (3, ['user3', 'Half-Life', 'Metal Gear Solid', 'Cyberpunk 2077', 'Call of Duty', 'Persona 5', 'Bloodborne', 'Diablo', 'Fortnite', 'The Legend of Zelda', 'Dark Souls', 'Gears of War', 'Spider-Man', 'God of War', 'Dragon Age', 'World of Warcraft', 'The Last of Us', 'Splatoon', 'Battlefield', 'Spider-Man', 'The Legend of Zelda', 'The Witcher 3']), (4, ['user4', 'Fallout', 'Elden Ring', 'Bioshock', 'Bayonetta', 'Resident Evil', 'The Witcher 3', 'Minecraft', 'Cyberpunk 2077', 'The Legend of Zelda']), (5, ['user5', 'Super Mario Bros', 'Silent Hill', 'Splatoon', 'Bioshock', 'Forza Horizon', 'Dota 2', 'Minecraft', 'Animal Crossing', 'StarCraft', 'Forza Horizon', 'Animal Crossing', 'Minecraft']), (6, ['user6', 'Ghost of Tsushima', 'Bloodborne', 'Super Mario Bros', 'Horizon Zero Dawn', 'League of Legends', 'Bayonetta', 'Far Cry', 'Gears of War', \"Assassin's Creed\", 'The Last of Us', 'Sekiro', 'Bayonetta', 'The Last of Us', 'Battlefield']), (7, ['user7', 'Portal', 'Minecraft', 'Splatoon', 'Final Fantasy', 'Silent Hill', 'Resident Evil', 'Dota 2', 'Half-Life', 'Fire Emblem', 'Resident Evil', 'Portal', 'Bayonetta'])]\n",
      "Recommendations for user1\n",
      "['Bloodborne', 'Horizon Zero Dawn', 'Gears of War', \"Assassin's Creed\", 'The Last of Us']\n",
      "Recommendations for user2\n",
      "['Metal Gear Solid', 'Call of Duty', 'Persona 5', 'Bloodborne', 'Dark Souls']\n",
      "Recommendations for user3\n",
      "['League of Legends', 'Red Dead Redemption 2', 'Metroid', 'The Elder Scrolls V: Skyrim', 'Resident Evil']\n",
      "Recommendations for user4\n",
      "['Portal', 'Splatoon', 'Final Fantasy', 'Silent Hill', 'Dota 2']\n",
      "Recommendations for user5\n",
      "['Portal', 'Final Fantasy', 'Resident Evil', 'Half-Life', 'Fire Emblem']\n",
      "Recommendations for user6\n",
      "['Fire Emblem', 'Uncharted', 'Portal', 'Metal Gear Solid', 'World of Warcraft']\n",
      "Recommendations for user7\n",
      "['Super Mario Bros', 'Bioshock', 'Forza Horizon', 'Animal Crossing', 'StarCraft']\n"
     ]
    }
   ],
   "source": [
    "from main_script import main\n",
    "main()"
   ]
  },
  {
   "cell_type": "markdown",
   "metadata": {},
   "source": [
    "For testing: Illustrate user game sets: 9 users, complicated Venn diagram."
   ]
  },
  {
   "cell_type": "code",
   "execution_count": 1,
   "metadata": {},
   "outputs": [
    {
     "name": "stdout",
     "output_type": "stream",
     "text": [
      "iteration 0\n",
      "iteration 1\n",
      "iteration 2\n",
      "iteration 3\n",
      "iteration 4\n",
      "iteration 5\n",
      "iteration 6\n",
      "iteration 7\n"
     ]
    }
   ],
   "source": [
    "# runtime: less than 3 minutes\n",
    "\n",
    "import csv\n",
    "from hash_table import HashTable\n",
    "from random import SystemRandom\n",
    "# # from matplotlib_venn import venn2, venn3\n",
    "# from venn import venn\n",
    "import matplotlib.pyplot as plt\n",
    "import sys\n",
    "\n",
    "sys.setrecursionlimit(10000)\n",
    "\n",
    "# class OrderedSet(list):\n",
    "#     def __iadd__(self, value):\n",
    "#         return super().__iadd__(value) if self.count(value) == 0 else None\n",
    "\n",
    "\n",
    "class ExperimentalHashTable(HashTable):  # this doesn't really need to be hash table\n",
    "    # def __init__(self, size, collision_avoidance: str = 'separate chaining', initial_data: list[any] = []) -> None:\n",
    "    def rand_hash_probing(self, hash1: int, probe: int, hash_size: int) -> int:\n",
    "        hash2 = self.rand_hash(probe)\n",
    "        return (hash1 + hash2) % hash_size\n",
    "    \n",
    "    def __init__(self, size: int, collision_avoidance: str, initial_data: list[any] =[]):\n",
    "        super().__init__(size, collision_avoidance)\n",
    "        if collision_avoidance.lower().count('rand') > 0:\n",
    "            self.probe_function = self.rand_hash_probing\n",
    "        self.rand_key_dict = HashTable(1)\n",
    "        self.rand_key_set = HashTable(1)\n",
    "    \n",
    "    def rand_hash(self, key: int) -> int:\n",
    "        hash_bool = True\n",
    "        count = 0\n",
    "        while hash_bool:\n",
    "            if not self.rand_key_dict.contains(key):\n",
    "                rand_16bits = SystemRandom().getrandbits(16)\n",
    "                # print(rand_16bits)\n",
    "                if not self.rand_key_set.contains(rand_16bits):\n",
    "                    self.rand_key_set.insert(rand_16bits, rand_16bits)\n",
    "                    self.rand_key_dict.insert(key, rand_16bits)\n",
    "                    hash_bool = False\n",
    "            count += 1\n",
    "            if count % 100 == 0:\n",
    "                print(f\"count: {count}\")\n",
    "        dicted_tuple = self.rand_key_dict.retrieve(key)\n",
    "        self.rand_key_dict.insert(dicted_tuple[0], dicted_tuple[1])  # could do default value arguments to also accept a tuple directly\n",
    "        return dicted_tuple[1]  # % len(self.hash_table)  ### with length of 1, all 0\n",
    "\n",
    "iterations = 25\n",
    "probing_functions_list = ['linear', 'quadratic', 'double', 'prime', '3/2', \"to Euler's number\", 'cubic', 'exponential']  #, 'rand double hashing']\n",
    "collisions_data = [HashTable(1) for _ in probing_functions_list]\n",
    "\n",
    "index_keys = [n for n in range(1001)]\n",
    "# print('keys complete')\n",
    "for _ in range(iterations):\n",
    "    print(f\"iteration {_}\")\n",
    "    # for N in range(0, 10000, 1000)[0:3]:\n",
    "    for N in list(range(0, 700, 125)) + [1000]:\n",
    "        exp_hash_table = ExperimentalHashTable(1, 'sep')  # provides hash vales for key for each iteration * each N, which are the same for each probing function, per N, per iteration\n",
    "        # print(f\"commencing key data:\")\n",
    "        key_data = [exp_hash_table.rand_hash(key) for key in index_keys[0:N]]\n",
    "        # print('key data complete')\n",
    "        # print(key_data)  # consider plotting to show randomness\n",
    "        for probing_function in probing_functions_list:\n",
    "            # print(f\"probing function: {probing_function}\")\n",
    "            hash_table = HashTable(2, probing_function)  # start at 2 to avoid integer modulo by 0\n",
    "            for key in key_data:\n",
    "                hash_table.insert(key, '')\n",
    "            collisions_data[probing_functions_list.index(probing_function)].insert(N, hash_table.collision_count)  # hash table does not update values, maybe make update method\n",
    "            # print(f\"{probing_function} completed for N: {N}\")\n",
    "        \n",
    "# Idea: cluster hash table - a (HashTable): assuming keys are deliberately colliding, provide statistics per key cluster  ## some of what we wonder about in science is the validity of a given hash function from observations to ... or from theoretical to observations ... or ... \n",
    "plt.figure()            # combine multiple hash functions -> 'good' clustering (and/or Monte Carlo the clusters ?)\n",
    "for label, each in zip(probing_functions_list, collisions_data):\n",
    "    all_tuples = each.get_all()\n",
    "    # print(all_tuples)\n",
    "    # all_tuples.sort(key= lambda p: (-p[0], -p[1]))\n",
    "    # plt.plot([each_tuple[0] for each_tuple in all_tuples], [each_tuple[1] for each_tuple in all_tuples], label=label)\n",
    "    # plt.scatter([each_tuple[0] for each_tuple in all_tuples], [each_tuple[1] for each_tuple in all_tuples], label=label)  # scatter data looks like the average would look pretty clean\n",
    "    data_dict = HashTable(2)\n",
    "    for each_tuple in all_tuples:\n",
    "        if not data_dict.contains(each_tuple[0]):\n",
    "            data_dict.insert(each_tuple[0], 0)\n",
    "        running_sum_tuple = data_dict.retrieve(each_tuple[0])\n",
    "        data_dict.insert(each_tuple[0], running_sum_tuple[1] + each_tuple[1])\n",
    "    plt.scatter([each_tuple[0] for each_tuple in data_dict.get_all()], [each_tuple[1] for each_tuple in data_dict.get_all()], label=label, marker='+')\n",
    "plt.legend()\n",
    "plt.show()\n",
    "# user_data_sets = {}\n",
    "# with open('user_data_csv.txt', 'r') as open_file:\n",
    "#     csv_reader = csv.reader(open_file)\n",
    "#     for row in csv_reader:\n",
    "#         user = row['user_id']\n",
    "#         game = row['item_id']\n",
    "#         if user not in user_data_sets:\n",
    "#             user_data_sets[user] = set()\n",
    "#         user_data_sets[user].add(game)\n",
    "\n",
    "# standard Venn diagrams only go up to "
   ]
  },
  {
   "cell_type": "code",
   "execution_count": 3,
   "metadata": {},
   "outputs": [],
   "source": [
    "class OrderedSet(list):\n",
    "    def __iadd__(self, value):\n",
    "        return super().__iadd__(value) if self.count(value) == 0 else None"
   ]
  },
  {
   "cell_type": "code",
   "execution_count": null,
   "metadata": {},
   "outputs": [],
   "source": []
  }
 ],
 "metadata": {
  "kernelspec": {
   "display_name": ".venv",
   "language": "python",
   "name": "python3"
  },
  "language_info": {
   "codemirror_mode": {
    "name": "ipython",
    "version": 3
   },
   "file_extension": ".py",
   "mimetype": "text/x-python",
   "name": "python",
   "nbconvert_exporter": "python",
   "pygments_lexer": "ipython3",
   "version": "3.12.6"
  }
 },
 "nbformat": 4,
 "nbformat_minor": 2
}
