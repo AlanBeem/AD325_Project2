{
 "cells": [
  {
   "cell_type": "code",
   "execution_count": 1,
   "metadata": {
    "ExecuteTime": {
     "end_time": "2024-11-01T18:16:53.808648Z",
     "start_time": "2024-11-01T18:16:53.521666Z"
    }
   },
   "outputs": [
    {
     "name": "stdout",
     "output_type": "stream",
     "text": [
      "[(1, ['user1', 'League of Legends', 'Bayonetta', 'Fire Emblem', 'Uncharted', 'Animal Crossing', 'Far Cry', 'Portal', 'Dragon Age', 'Grand Theft Auto V', 'Red Dead Redemption 2', 'Super Mario Bros', 'Metal Gear Solid', 'Ghost of Tsushima', 'World of Warcraft', 'Dragon Age']), (2, ['user2', 'Diablo', 'League of Legends', 'Silent Hill', 'Sekiro', 'The Legend of Zelda', 'Mass Effect', 'Battlefield', 'Half-Life', 'Red Dead Redemption 2', 'Metroid', 'The Last of Us', 'Spider-Man', 'The Elder Scrolls V: Skyrim', 'Fortnite', 'Resident Evil', 'Bioshock', 'The Legend of Zelda']), (3, ['user3', 'Half-Life', 'Metal Gear Solid', 'Cyberpunk 2077', 'Call of Duty', 'Persona 5', 'Bloodborne', 'Diablo', 'Fortnite', 'The Legend of Zelda', 'Dark Souls', 'Gears of War', 'Spider-Man', 'God of War', 'Dragon Age', 'World of Warcraft', 'The Last of Us', 'Splatoon', 'Battlefield', 'Spider-Man', 'The Legend of Zelda', 'The Witcher 3']), (4, ['user4', 'Fallout', 'Elden Ring', 'Bioshock', 'Bayonetta', 'Resident Evil', 'The Witcher 3', 'Minecraft', 'Cyberpunk 2077', 'The Legend of Zelda']), (5, ['user5', 'Super Mario Bros', 'Silent Hill', 'Splatoon', 'Bioshock', 'Forza Horizon', 'Dota 2', 'Minecraft', 'Animal Crossing', 'StarCraft', 'Forza Horizon', 'Animal Crossing', 'Minecraft']), (6, ['user6', 'Ghost of Tsushima', 'Bloodborne', 'Super Mario Bros', 'Horizon Zero Dawn', 'League of Legends', 'Bayonetta', 'Far Cry', 'Gears of War', \"Assassin's Creed\", 'The Last of Us', 'Sekiro', 'Bayonetta', 'The Last of Us', 'Battlefield']), (7, ['user7', 'Portal', 'Minecraft', 'Splatoon', 'Final Fantasy', 'Silent Hill', 'Resident Evil', 'Dota 2', 'Half-Life', 'Fire Emblem', 'Resident Evil', 'Portal', 'Bayonetta'])]\n",
      "Recommendations for user1\n",
      "['The Witcher 3', 'Resident Evil', 'Half-Life', 'Dota 2', 'Resident Evil']\n",
      "Recommendations for user2\n",
      "['Dragon Age', 'The Witcher 3', 'Portal', 'Bayonetta', 'Dota 2']\n",
      "Recommendations for user3\n",
      "['Bioshock', 'Portal', 'League of Legends', 'Silent Hill', 'League of Legends']\n",
      "Recommendations for user4\n",
      "['Sekiro', 'Portal', 'Fire Emblem', 'Half-Life', 'Dota 2']\n",
      "Recommendations for user5\n",
      "['Dark Souls', 'Bayonetta', 'Portal', 'Resident Evil', 'Fire Emblem']\n",
      "Recommendations for user6\n",
      "['Fire Emblem', 'Uncharted', 'Portal', 'World of Warcraft', 'Metal Gear Solid']\n",
      "Recommendations for user7\n",
      "['Call of Duty', 'The Elder Scrolls V: Skyrim', 'League of Legends', 'Uncharted', 'Ghost of Tsushima']\n"
     ]
    }
   ],
   "source": [
    "from main_script import main\n",
    "main()"
   ]
  },
  {
   "cell_type": "markdown",
   "metadata": {},
   "source": [
    "For testing: Illustrate user game sets: 9 users, complicated Venn diagram."
   ]
  },
  {
   "cell_type": "code",
   "execution_count": 2,
   "metadata": {},
   "outputs": [
    {
     "name": "stdout",
     "output_type": "stream",
     "text": [
      "iteration 0\n"
     ]
    },
    {
     "ename": "KeyboardInterrupt",
     "evalue": "",
     "output_type": "error",
     "traceback": [
      "\u001b[0;31m---------------------------------------------------------------------------\u001b[0m",
      "\u001b[0;31mKeyboardInterrupt\u001b[0m                         Traceback (most recent call last)",
      "Cell \u001b[0;32mIn[2], line 68\u001b[0m\n\u001b[1;32m     66\u001b[0m             hash_table \u001b[38;5;241m=\u001b[39m HashTable(\u001b[38;5;241m2\u001b[39m, probing_function)  \u001b[38;5;66;03m# start at 2 to avoid integer modulo by 0\u001b[39;00m\n\u001b[1;32m     67\u001b[0m             \u001b[38;5;28;01mfor\u001b[39;00m key \u001b[38;5;129;01min\u001b[39;00m key_data:\n\u001b[0;32m---> 68\u001b[0m                 \u001b[43mhash_table\u001b[49m\u001b[38;5;241;43m.\u001b[39;49m\u001b[43minsert\u001b[49m\u001b[43m(\u001b[49m\u001b[43mkey\u001b[49m\u001b[43m,\u001b[49m\u001b[43m \u001b[49m\u001b[38;5;124;43m'\u001b[39;49m\u001b[38;5;124;43m'\u001b[39;49m\u001b[43m)\u001b[49m\n\u001b[1;32m     69\u001b[0m             collisions_data[probing_functions_list\u001b[38;5;241m.\u001b[39mindex(probing_function)]\u001b[38;5;241m.\u001b[39minsert(N, hash_table\u001b[38;5;241m.\u001b[39mcollision_count)  \u001b[38;5;66;03m# hash table does not update values, maybe make update method\u001b[39;00m\n\u001b[1;32m     70\u001b[0m             \u001b[38;5;66;03m# print(f\"{probing_function} completed for N: {N}\")\u001b[39;00m\n\u001b[1;32m     71\u001b[0m         \n\u001b[1;32m     72\u001b[0m \u001b[38;5;66;03m# Idea: cluster hash table - a (HashTable): assuming keys are deliberately colliding, provide statistics per key cluster  ## some of what we wonder about in science is the validity of a given hash function from observations to ... or from theoretical to observations ... or ... \u001b[39;00m\n",
      "File \u001b[0;32m~/Desktop/AD325_Fall_2024/AD325_Projects/AD325_Project2/hash_table.py:183\u001b[0m, in \u001b[0;36mHashTable.insert\u001b[0;34m(self, key, value)\u001b[0m\n\u001b[1;32m    181\u001b[0m \u001b[38;5;28;01mwhile\u001b[39;00m \u001b[38;5;28mself\u001b[39m\u001b[38;5;241m.\u001b[39mhash_table[current]:  \u001b[38;5;66;03m# or self.hash_table[current][0] != key:  doesn't update ... \u001b[39;00m\n\u001b[1;32m    182\u001b[0m     probe \u001b[38;5;241m+\u001b[39m\u001b[38;5;241m=\u001b[39m \u001b[38;5;241m1\u001b[39m\n\u001b[0;32m--> 183\u001b[0m     current \u001b[38;5;241m=\u001b[39m \u001b[38;5;28;43mself\u001b[39;49m\u001b[38;5;241;43m.\u001b[39;49m\u001b[43mprobe\u001b[49m\u001b[43m(\u001b[49m\u001b[43mhash_key\u001b[49m\u001b[43m,\u001b[49m\u001b[43m \u001b[49m\u001b[43mprobe\u001b[49m\u001b[43m)\u001b[49m\n\u001b[1;32m    184\u001b[0m     \u001b[38;5;28;01mif\u001b[39;00m probe \u001b[38;5;241m>\u001b[39m\u001b[38;5;241m=\u001b[39m \u001b[38;5;28mlen\u001b[39m(\u001b[38;5;28mself\u001b[39m\u001b[38;5;241m.\u001b[39mhash_table) \u001b[38;5;241m/\u001b[39m\u001b[38;5;241m/\u001b[39m \u001b[38;5;241m2\u001b[39m:  \u001b[38;5;66;03m# TODO adjust to load factor\u001b[39;00m\n\u001b[1;32m    185\u001b[0m         \u001b[38;5;28mself\u001b[39m\u001b[38;5;241m.\u001b[39mrehash_table()  \u001b[38;5;66;03m#              # whats expected probe distance per lambda? put plot in ipynb\u001b[39;00m\n",
      "File \u001b[0;32m~/Desktop/AD325_Fall_2024/AD325_Projects/AD325_Project2/hash_table.py:162\u001b[0m, in \u001b[0;36mHashTable.probe\u001b[0;34m(self, hash_key, probe)\u001b[0m\n\u001b[1;32m    160\u001b[0m \u001b[38;5;28mself\u001b[39m\u001b[38;5;241m.\u001b[39mcollision_count_by_hashsize\u001b[38;5;241m.\u001b[39mappend(\u001b[38;5;28mlen\u001b[39m(\u001b[38;5;28mself\u001b[39m\u001b[38;5;241m.\u001b[39mhash_table))  \u001b[38;5;66;03m# maintains data that can be used to construct a per hashsize view of collisions, which can be compared across techniques\u001b[39;00m\n\u001b[1;32m    161\u001b[0m \u001b[38;5;28mself\u001b[39m\u001b[38;5;241m.\u001b[39mcollision_count \u001b[38;5;241m+\u001b[39m\u001b[38;5;241m=\u001b[39m \u001b[38;5;241m1\u001b[39m\n\u001b[0;32m--> 162\u001b[0m \u001b[38;5;28;01mreturn\u001b[39;00m \u001b[38;5;28;43mself\u001b[39;49m\u001b[38;5;241;43m.\u001b[39;49m\u001b[43mprobe_function\u001b[49m\u001b[43m(\u001b[49m\u001b[43mhash_key\u001b[49m\u001b[43m,\u001b[49m\u001b[43m \u001b[49m\u001b[43mprobe\u001b[49m\u001b[43m,\u001b[49m\u001b[43m \u001b[49m\u001b[38;5;28;43mlen\u001b[39;49m\u001b[43m(\u001b[49m\u001b[38;5;28;43mself\u001b[39;49m\u001b[38;5;241;43m.\u001b[39;49m\u001b[43mhash_table\u001b[49m\u001b[43m)\u001b[49m\u001b[43m)\u001b[49m\n",
      "File \u001b[0;32m~/Desktop/AD325_Fall_2024/AD325_Projects/AD325_Project2/hash_table.py:81\u001b[0m, in \u001b[0;36mHashTable.prime_probing\u001b[0;34m(hash1, probe, hash_size)\u001b[0m\n\u001b[1;32m     79\u001b[0m current_prime \u001b[38;5;241m=\u001b[39m HashTable\u001b[38;5;241m.\u001b[39mget_next_prime(\u001b[38;5;241m2\u001b[39m)\n\u001b[1;32m     80\u001b[0m \u001b[38;5;28;01mfor\u001b[39;00m p \u001b[38;5;129;01min\u001b[39;00m \u001b[38;5;28mrange\u001b[39m(probe):\n\u001b[0;32m---> 81\u001b[0m     current_prime \u001b[38;5;241m=\u001b[39m \u001b[43mHashTable\u001b[49m\u001b[38;5;241;43m.\u001b[39;49m\u001b[43mget_next_prime\u001b[49m\u001b[43m(\u001b[49m\u001b[43mcurrent_prime\u001b[49m\u001b[43m)\u001b[49m\n\u001b[1;32m     82\u001b[0m \u001b[38;5;28;01mreturn\u001b[39;00m (hash1 \u001b[38;5;241m+\u001b[39m current_prime) \u001b[38;5;241m%\u001b[39m hash_size\n",
      "File \u001b[0;32m~/Desktop/AD325_Fall_2024/AD325_Projects/AD325_Project2/hash_table.py:56\u001b[0m, in \u001b[0;36mHashTable.get_next_prime\u001b[0;34m(current_prime)\u001b[0m\n\u001b[1;32m     54\u001b[0m \u001b[38;5;66;03m#                                                                                  ##\u001b[39;00m\n\u001b[1;32m     55\u001b[0m current_prime \u001b[38;5;241m+\u001b[39m\u001b[38;5;241m=\u001b[39m \u001b[38;5;241m1\u001b[39m\n\u001b[0;32m---> 56\u001b[0m \u001b[38;5;28;01mwhile\u001b[39;00m \u001b[38;5;129;01mnot\u001b[39;00m \u001b[43misPrime\u001b[49m\u001b[43m(\u001b[49m\u001b[43mcurrent_prime\u001b[49m\u001b[43m)\u001b[49m \u001b[38;5;129;01mor\u001b[39;00m isMersenne(current_prime):\n\u001b[1;32m     57\u001b[0m     current_prime \u001b[38;5;241m+\u001b[39m\u001b[38;5;241m=\u001b[39m \u001b[38;5;241m1\u001b[39m\n\u001b[1;32m     58\u001b[0m \u001b[38;5;28;01mreturn\u001b[39;00m current_prime\n",
      "File \u001b[0;32m~/Desktop/AD325_Fall_2024/AD325_Projects/AD325_Project2/hash_table.py:43\u001b[0m, in \u001b[0;36mHashTable.get_next_prime.<locals>.isPrime\u001b[0;34m(n)\u001b[0m\n\u001b[1;32m     41\u001b[0m prime_bool \u001b[38;5;241m=\u001b[39m \u001b[38;5;28;01mTrue\u001b[39;00m\n\u001b[1;32m     42\u001b[0m \u001b[38;5;28;01mfor\u001b[39;00m n_i \u001b[38;5;129;01min\u001b[39;00m \u001b[38;5;28mrange\u001b[39m(\u001b[38;5;241m2\u001b[39m,\u001b[38;5;28mint\u001b[39m(math\u001b[38;5;241m.\u001b[39msqrt(n)) \u001b[38;5;241m+\u001b[39m \u001b[38;5;241m1\u001b[39m):\n\u001b[0;32m---> 43\u001b[0m     \u001b[38;5;28;01mif\u001b[39;00m n \u001b[38;5;241m%\u001b[39m n_i \u001b[38;5;241m==\u001b[39m \u001b[38;5;241m0\u001b[39m:\n\u001b[1;32m     44\u001b[0m         prime_bool \u001b[38;5;241m=\u001b[39m \u001b[38;5;28;01mFalse\u001b[39;00m\n\u001b[1;32m     45\u001b[0m         \u001b[38;5;28;01mbreak\u001b[39;00m\n",
      "\u001b[0;31mKeyboardInterrupt\u001b[0m: "
     ]
    }
   ],
   "source": [
    "# runtime: less than 3 minutes\n",
    "\n",
    "import csv\n",
    "from hash_table import HashTable\n",
    "from random import SystemRandom\n",
    "# # from matplotlib_venn import venn2, venn3\n",
    "# from venn import venn\n",
    "import matplotlib.pyplot as plt\n",
    "import sys\n",
    "\n",
    "sys.setrecursionlimit(10000)\n",
    "\n",
    "# class OrderedSet(list):\n",
    "#     def __iadd__(self, value):\n",
    "#         return super().__iadd__(value) if self.count(value) == 0 else None\n",
    "\n",
    "\n",
    "class ExperimentalHashTable(HashTable):  # this doesn't really need to be hash table\n",
    "    # def __init__(self, size, collision_avoidance: str = 'separate chaining', initial_data: list[any] = []) -> None:\n",
    "    def rand_hash_probing(self, hash1: int, probe: int, hash_size: int) -> int:\n",
    "        hash2 = self.rand_hash(probe)\n",
    "        return (hash1 + hash2) % hash_size\n",
    "    \n",
    "    def __init__(self, size: int, collision_avoidance: str, initial_data: list[any] =[]):\n",
    "        super().__init__(size, collision_avoidance)\n",
    "        if collision_avoidance.lower().count('rand') > 0:\n",
    "            self.probe_function = self.rand_hash_probing\n",
    "        self.rand_key_dict = HashTable(1)\n",
    "        self.rand_key_set = HashTable(1)\n",
    "    \n",
    "    def rand_hash(self, key: int) -> int:\n",
    "        hash_bool = True\n",
    "        count = 0\n",
    "        while hash_bool:\n",
    "            if not self.rand_key_dict.contains(key):\n",
    "                rand_16bits = SystemRandom().getrandbits(16)\n",
    "                # print(rand_16bits)\n",
    "                if not self.rand_key_set.contains(rand_16bits):\n",
    "                    self.rand_key_set.insert(rand_16bits, rand_16bits)\n",
    "                    self.rand_key_dict.insert(key, rand_16bits)\n",
    "                    hash_bool = False\n",
    "            count += 1\n",
    "            if count % 100 == 0:\n",
    "                print(f\"count: {count}\")\n",
    "        dicted_tuple = self.rand_key_dict.retrieve(key)\n",
    "        self.rand_key_dict.insert(dicted_tuple[0], dicted_tuple[1])  # could do default value arguments to also accept a tuple directly\n",
    "        return dicted_tuple[1]  # % len(self.hash_table)  ### with length of 1, all 0\n",
    "\n",
    "iterations = 25\n",
    "probing_functions_list = ['linear', 'quadratic', 'double', 'prime', '3/2', \"to Euler's number\", 'cubic', 'exponential']  #, 'rand double hashing']\n",
    "collisions_data = [HashTable(1) for _ in probing_functions_list]\n",
    "\n",
    "index_keys = [n for n in range(1001)]\n",
    "# print('keys complete')\n",
    "for _ in range(iterations):\n",
    "    print(f\"iteration {_}\")\n",
    "    # for N in range(0, 10000, 1000)[0:3]:\n",
    "    for N in list(range(0, 700, 125)) + [1000]:\n",
    "        exp_hash_table = ExperimentalHashTable(1, 'sep')  # provides hash vales for key for each iteration * each N, which are the same for each probing function, per N, per iteration\n",
    "        # print(f\"commencing key data:\")\n",
    "        key_data = [exp_hash_table.rand_hash(key) for key in index_keys[0:N]]\n",
    "        # print('key data complete')\n",
    "        # print(key_data)  # consider plotting to show randomness\n",
    "        for probing_function in probing_functions_list:\n",
    "            # print(f\"probing function: {probing_function}\")\n",
    "            hash_table = HashTable(2, probing_function)  # start at 2 to avoid integer modulo by 0\n",
    "            for key in key_data:\n",
    "                hash_table.insert(key, '')\n",
    "            collisions_data[probing_functions_list.index(probing_function)].insert(N, hash_table.collision_count)  # hash table does not update values, maybe make update method\n",
    "            # print(f\"{probing_function} completed for N: {N}\")\n",
    "        \n",
    "# Idea: cluster hash table - a (HashTable): assuming keys are deliberately colliding, provide statistics per key cluster  ## some of what we wonder about in science is the validity of a given hash function from observations to ... or from theoretical to observations ... or ... \n",
    "plt.figure()            # combine multiple hash functions -> 'good' clustering (and/or Monte Carlo the clusters ?)\n",
    "for label, each in zip(probing_functions_list, collisions_data):\n",
    "    all_tuples = each.get_all()\n",
    "    # print(all_tuples)\n",
    "    # all_tuples.sort(key= lambda p: (-p[0], -p[1]))\n",
    "    # plt.plot([each_tuple[0] for each_tuple in all_tuples], [each_tuple[1] for each_tuple in all_tuples], label=label)\n",
    "    # plt.scatter([each_tuple[0] for each_tuple in all_tuples], [each_tuple[1] for each_tuple in all_tuples], label=label)  # scatter data looks like the average would look pretty clean\n",
    "    data_dict = HashTable(2)\n",
    "    for each_tuple in all_tuples:\n",
    "        if not data_dict.contains(each_tuple[0]):\n",
    "            data_dict.insert(each_tuple[0], 0)\n",
    "        running_sum_tuple = data_dict.retrieve(each_tuple[0])\n",
    "        data_dict.insert(each_tuple[0], running_sum_tuple[1] + each_tuple[1])\n",
    "    plt.scatter([each_tuple[0] for each_tuple in data_dict.get_all()], [each_tuple[1] for each_tuple in data_dict.get_all()], label=label, marker='+')\n",
    "plt.legend()\n",
    "plt.show()\n",
    "# user_data_sets = {}\n",
    "# with open('user_data_csv.txt', 'r') as open_file:\n",
    "#     csv_reader = csv.reader(open_file)\n",
    "#     for row in csv_reader:\n",
    "#         user = row['user_id']\n",
    "#         game = row['item_id']\n",
    "#         if user not in user_data_sets:\n",
    "#             user_data_sets[user] = set()\n",
    "#         user_data_sets[user].add(game)\n",
    "\n",
    "# standard Venn diagrams only go up to "
   ]
  },
  {
   "cell_type": "code",
   "execution_count": 3,
   "metadata": {},
   "outputs": [],
   "source": [
    "class OrderedSet(list):\n",
    "    def __iadd__(self, value):\n",
    "        return super().__iadd__(value) if self.count(value) == 0 else None"
   ]
  },
  {
   "cell_type": "code",
   "execution_count": null,
   "metadata": {},
   "outputs": [],
   "source": []
  }
 ],
 "metadata": {
  "kernelspec": {
   "display_name": ".venv",
   "language": "python",
   "name": "python3"
  },
  "language_info": {
   "codemirror_mode": {
    "name": "ipython",
    "version": 3
   },
   "file_extension": ".py",
   "mimetype": "text/x-python",
   "name": "python",
   "nbconvert_exporter": "python",
   "pygments_lexer": "ipython3",
   "version": "3.12.6"
  }
 },
 "nbformat": 4,
 "nbformat_minor": 2
}
